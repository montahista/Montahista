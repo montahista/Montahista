{
  "nbformat": 4,
  "nbformat_minor": 0,
  "metadata": {
    "colab": {
      "provenance": [],
      "authorship_tag": "ABX9TyOfBsGE0ifW/I+ttHXx6QP3",
      "include_colab_link": true
    },
    "kernelspec": {
      "name": "python3",
      "display_name": "Python 3"
    },
    "language_info": {
      "name": "python"
    }
  },
  "cells": [
    {
      "cell_type": "markdown",
      "metadata": {
        "id": "view-in-github",
        "colab_type": "text"
      },
      "source": [
        "<a href=\"https://colab.research.google.com/github/montahista/Montahista/blob/main/Seach_algorithm.ipynb\" target=\"_parent\"><img src=\"https://colab.research.google.com/assets/colab-badge.svg\" alt=\"Open In Colab\"/></a>"
      ]
    },
    {
      "cell_type": "code",
      "execution_count": 1,
      "metadata": {
        "colab": {
          "base_uri": "https://localhost:8080/"
        },
        "id": "BiNCSarYbEnI",
        "outputId": "fe94a0a6-a2b3-4c0f-e40d-4adae60c20f0"
      },
      "outputs": [
        {
          "output_type": "stream",
          "name": "stdout",
          "text": [
            "Path using IDDFS: ['S', 'A', 'C', 'G']\n"
          ]
        }
      ],
      "source": [
        "class Graph:\n",
        "    def __init__(self, graph_dict):\n",
        "        self.graph_dict = graph_dict\n",
        "\n",
        "    def iddfs(self, start, goal):\n",
        "        def dls(node, depth):\n",
        "            if depth == 0 and node == goal:\n",
        "                return [node]\n",
        "            if depth > 0:\n",
        "                for neighbor in self.graph_dict.get(node, {}):\n",
        "                    path = dls(neighbor, depth - 1)\n",
        "                    if path:\n",
        "                        return [node] + path\n",
        "            return None\n",
        "\n",
        "        depth = 0\n",
        "        while True:\n",
        "            result = dls(start, depth)\n",
        "            if result:\n",
        "                return result\n",
        "            depth += 1\n",
        "\n",
        "# Define the graph as a dictionary\n",
        "graph_dict = {\n",
        "    'S': {'A': 4, 'B': 10,'c':11 },\n",
        "    'A': {'D':5,'B': 8 },\n",
        "    'B': {'D': 15},\n",
        "    'D': {'F': 1,'H':16 ,'I':20 },\n",
        "    'C': {'D': 8,'E':20 ,'F':2 },\n",
        "    '': {}\n",
        "    'G': {}\n",
        "}\n",
        "\n",
        "graph = Graph(graph_dict)\n",
        "path = graph.iddfs('S', 'G')\n",
        "print(\"Path using IDDFS:\", path)\n"
      ]
    }
  ]
}